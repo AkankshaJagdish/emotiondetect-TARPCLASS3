{
 "cells": [
  {
   "cell_type": "code",
   "execution_count": 5,
   "metadata": {},
   "outputs": [
    {
     "name": "stdout",
     "output_type": "stream",
     "text": [
      "[+] Model trained\n",
      "Test score: 1.0\n",
      "Train score: 1.0\n"
     ]
    }
   ],
   "source": [
    "from emotion_recognition import EmotionRecognizer\n",
    "from sklearn.ensemble import BaggingClassifier\n",
    "# init a model, let's use SVC\n",
    "my_model = BaggingClassifier()\n",
    "# pass my model to EmotionRecognizer instance\n",
    "# and balance the dataset\n",
    "rec = EmotionRecognizer(model=my_model, emotions=['neutral', 'calm', 'happy', 'sad', 'angry', 'fear', 'disgust', 'ps' , 'boredom'], balance=False, verbose=0)\n",
    "# train the model\n",
    "rec.train()\n",
    "# check the test accuracy for that model\n",
    "print(\"Test score:\", rec.test_score())\n",
    "# check the train accuracy for that model\n",
    "print(\"Train score:\", rec.train_score())\n",
    "\n",
    "#'angry': 1, 'fear': 2, 'disgust': 3, 'sad': 4, 'boredom': 5, 'neutral': 6, 'calm': 7, 'happy': 8, 'ps': 9"
   ]
  },
  {
   "cell_type": "code",
   "execution_count": 6,
   "metadata": {},
   "outputs": [
    {
     "name": "stdout",
     "output_type": "stream",
     "text": [
      "SVC is the best\n",
      "Test score: 1.0\n"
     ]
    }
   ],
   "source": [
    "# loads the best estimators from `grid` folder that was searched by GridSearchCV in `grid_search.py`,\n",
    "# and set the model to the best in terms of test score, and then train it\n",
    "rec.determine_best_model()\n",
    "# get the determined sklearn model name\n",
    "print(rec.model.__class__.__name__, \"is the best\")\n",
    "# get the test accuracy score for the best estimator\n",
    "print(\"Test score:\", rec.test_score())"
   ]
  },
  {
   "cell_type": "code",
   "execution_count": 8,
   "metadata": {},
   "outputs": [
    {
     "name": "stdout",
     "output_type": "stream",
     "text": [
      "Prediction: neutral\n",
      "Prediction: fear\n"
     ]
    },
    {
     "name": "stderr",
     "output_type": "stream",
     "text": [
      "c:\\Users\\akank\\OneDrive\\Desktop\\emotiondetect10\\utils.py:93: FutureWarning: Pass y=[ 1.0375977e-03  6.7138672e-04  7.9345703e-04 ...  9.1552734e-05\n",
      " -9.1552734e-05 -3.3569336e-04] as keyword args. From version 0.10 passing these as positional arguments will result in an error\n",
      "  mel = np.mean(librosa.feature.melspectrogram(X, sr=sample_rate).T,axis=0)\n",
      "c:\\Users\\akank\\OneDrive\\Desktop\\emotiondetect10\\utils.py:93: FutureWarning: Pass y=[ 0.0000000e+00 -3.0517578e-05 -3.0517578e-05 ...  6.1035156e-05\n",
      "  1.2207031e-04  6.1035156e-05] as keyword args. From version 0.10 passing these as positional arguments will result in an error\n",
      "  mel = np.mean(librosa.feature.melspectrogram(X, sr=sample_rate).T,axis=0)\n"
     ]
    }
   ],
   "source": [
    "# this is a neutral speech from emo-db from the testing set\n",
    "print(\"Prediction:\", rec.predict(\"data/emodb/wav/15a04Nc.wav\"))\n",
    "# this is a sad speech from TESS from the testing set\n",
    "print(\"Prediction:\", rec.predict(\"data/validation/Actor_25/25_01_01_01_back_sad.wav\"))"
   ]
  },
  {
   "cell_type": "code",
   "execution_count": 16,
   "metadata": {},
   "outputs": [
    {
     "name": "stdout",
     "output_type": "stream",
     "text": [
      "[Custom Dataset] Total files to write: 4775\n",
      "[Custom Dataset] There are 4775 training audio files for category:neutral\n",
      "[Custom Dataset] Total files to write: 9550\n",
      "[Custom Dataset] There are 4775 training audio files for category:calm\n",
      "[Custom Dataset] Total files to write: 14325\n",
      "[Custom Dataset] There are 4775 training audio files for category:happy\n",
      "[Custom Dataset] Total files to write: 19100\n",
      "[Custom Dataset] There are 4775 training audio files for category:sad\n",
      "[Custom Dataset] Total files to write: 23875\n",
      "[Custom Dataset] There are 4775 training audio files for category:angry\n",
      "[Custom Dataset] Total files to write: 28650\n",
      "[Custom Dataset] There are 4775 training audio files for category:fear\n",
      "[Custom Dataset] Total files to write: 33425\n",
      "[Custom Dataset] There are 4775 training audio files for category:disgust\n",
      "[Custom Dataset] Total files to write: 38200\n",
      "[Custom Dataset] There are 4775 training audio files for category:ps\n",
      "[Custom Dataset] Total files to write: 42975\n",
      "[Custom Dataset] There are 4775 training audio files for category:boredom\n",
      "[Custom Dataset] Training samples: 23636\n",
      "[Custom Dataset] Testing samples: 19338\n",
      "[+] Generated Custom DB CSV File\n",
      "[+] Data loaded\n",
      "[+] Model trained\n"
     ]
    }
   ],
   "source": [
    "from emotion_recognition import EmotionRecognizer\n",
    "from sklearn.neighbors import KNeighborsClassifier\n",
    "# initialize instance, this will take a bit the first time executed\n",
    "# as it'll extract the features and calls determine_best_model() automatically\n",
    "# to load the best performing model on the picked dataset\n",
    "my_model = KNeighborsClassifier()\n",
    "rec = EmotionRecognizer(model = my_model, emotions=['neutral', 'calm', 'happy', 'sad', 'angry', 'fear', 'disgust', 'ps' , 'boredom'], balance=False, verbose=1, custom_db=True)\n",
    "rec.train()\n",
    "# it will be trained, so no need to train this time\n",
    "# get the accuracy on the test set"
   ]
  },
  {
   "cell_type": "code",
   "execution_count": 17,
   "metadata": {},
   "outputs": [
    {
     "name": "stdout",
     "output_type": "stream",
     "text": [
      "              predicted_neutral  predicted_calm  predicted_happy  \\\n",
      "true_neutral              100.0             0.0              0.0   \n",
      "true_calm                   0.0           100.0              0.0   \n",
      "true_happy                  0.0             0.0            100.0   \n",
      "true_sad                    0.0             0.0              0.0   \n",
      "true_angry                  0.0             0.0              0.0   \n",
      "true_fear                   0.0             0.0              0.0   \n",
      "true_disgust                0.0             0.0              0.0   \n",
      "true_ps                     0.0             0.0              0.0   \n",
      "true_boredom                0.0             0.0              0.0   \n",
      "\n",
      "              predicted_sad  predicted_angry  predicted_fear  \\\n",
      "true_neutral            0.0              0.0             0.0   \n",
      "true_calm               0.0              0.0             0.0   \n",
      "true_happy              0.0              0.0             0.0   \n",
      "true_sad              100.0              0.0             0.0   \n",
      "true_angry              0.0            100.0             0.0   \n",
      "true_fear               0.0              0.0           100.0   \n",
      "true_disgust            0.0              0.0             0.0   \n",
      "true_ps                 0.0              0.0             0.0   \n",
      "true_boredom            0.0              0.0             0.0   \n",
      "\n",
      "              predicted_disgust  predicted_ps  predicted_boredom  \n",
      "true_neutral                0.0           0.0                0.0  \n",
      "true_calm                   0.0           0.0                0.0  \n",
      "true_happy                  0.0           0.0                0.0  \n",
      "true_sad                    0.0           0.0                0.0  \n",
      "true_angry                  0.0           0.0                0.0  \n",
      "true_fear                   0.0           0.0                0.0  \n",
      "true_disgust              100.0           0.0                0.0  \n",
      "true_ps                     0.0         100.0                0.0  \n",
      "true_boredom                0.0           0.0              100.0  \n",
      "Prediction: happy\n"
     ]
    }
   ],
   "source": [
    "print(rec.confusion_matrix())\n",
    "# predict angry audio sample\n",
    "prediction = rec.predict('data/validation/Actor_10/03-02-05-02-02-02-10_angry.wav')\n",
    "print(f\"Prediction: {prediction}\")"
   ]
  },
  {
   "cell_type": "code",
   "execution_count": 18,
   "metadata": {},
   "outputs": [
    {
     "data": {
      "text/html": [
       "<div>\n",
       "<style scoped>\n",
       "    .dataframe tbody tr th:only-of-type {\n",
       "        vertical-align: middle;\n",
       "    }\n",
       "\n",
       "    .dataframe tbody tr th {\n",
       "        vertical-align: top;\n",
       "    }\n",
       "\n",
       "    .dataframe thead th {\n",
       "        text-align: right;\n",
       "    }\n",
       "</style>\n",
       "<table border=\"1\" class=\"dataframe\">\n",
       "  <thead>\n",
       "    <tr style=\"text-align: right;\">\n",
       "      <th></th>\n",
       "      <th>train</th>\n",
       "      <th>test</th>\n",
       "      <th>total</th>\n",
       "    </tr>\n",
       "  </thead>\n",
       "  <tbody>\n",
       "    <tr>\n",
       "      <th>neutral</th>\n",
       "      <td>2841</td>\n",
       "      <td>2334</td>\n",
       "      <td>5175</td>\n",
       "    </tr>\n",
       "    <tr>\n",
       "      <th>calm</th>\n",
       "      <td>960</td>\n",
       "      <td>768</td>\n",
       "      <td>1728</td>\n",
       "    </tr>\n",
       "    <tr>\n",
       "      <th>happy</th>\n",
       "      <td>3281</td>\n",
       "      <td>2686</td>\n",
       "      <td>5967</td>\n",
       "    </tr>\n",
       "    <tr>\n",
       "      <th>sad</th>\n",
       "      <td>3235</td>\n",
       "      <td>2651</td>\n",
       "      <td>5886</td>\n",
       "    </tr>\n",
       "    <tr>\n",
       "      <th>angry</th>\n",
       "      <td>3561</td>\n",
       "      <td>2910</td>\n",
       "      <td>6471</td>\n",
       "    </tr>\n",
       "    <tr>\n",
       "      <th>fear</th>\n",
       "      <td>3271</td>\n",
       "      <td>2678</td>\n",
       "      <td>5949</td>\n",
       "    </tr>\n",
       "    <tr>\n",
       "      <th>disgust</th>\n",
       "      <td>3156</td>\n",
       "      <td>2586</td>\n",
       "      <td>5742</td>\n",
       "    </tr>\n",
       "    <tr>\n",
       "      <th>ps</th>\n",
       "      <td>2926</td>\n",
       "      <td>2402</td>\n",
       "      <td>5328</td>\n",
       "    </tr>\n",
       "    <tr>\n",
       "      <th>boredom</th>\n",
       "      <td>405</td>\n",
       "      <td>324</td>\n",
       "      <td>729</td>\n",
       "    </tr>\n",
       "    <tr>\n",
       "      <th>total</th>\n",
       "      <td>23636</td>\n",
       "      <td>19339</td>\n",
       "      <td>42975</td>\n",
       "    </tr>\n",
       "  </tbody>\n",
       "</table>\n",
       "</div>"
      ],
      "text/plain": [
       "         train   test  total\n",
       "neutral   2841   2334   5175\n",
       "calm       960    768   1728\n",
       "happy     3281   2686   5967\n",
       "sad       3235   2651   5886\n",
       "angry     3561   2910   6471\n",
       "fear      3271   2678   5949\n",
       "disgust   3156   2586   5742\n",
       "ps        2926   2402   5328\n",
       "boredom    405    324    729\n",
       "total    23636  19339  42975"
      ]
     },
     "execution_count": 18,
     "metadata": {},
     "output_type": "execute_result"
    }
   ],
   "source": [
    "rec.get_samples_by_class()"
   ]
  },
  {
   "cell_type": "code",
   "execution_count": 19,
   "metadata": {},
   "outputs": [
    {
     "name": "stdout",
     "output_type": "stream",
     "text": [
      "[+] Model trained\n",
      "[+] SVC with 1.0% (236) data samples achieved 99.894% Validation Score in 0.007s & 64.249% Test Score in 0.004s\n",
      "[+] Model trained\n",
      "[+] SVC with 10.0% (2363) data samples achieved 99.894% Validation Score in 0.491s & 86.963% Test Score in 0.318s\n",
      "[+] Model trained\n",
      "[+] SVC with 100% (23636) data samples achieved 99.894% Validation Score in 13.945s & 100.000% Test Score in 12.107s\n",
      "\n",
      "[+] Model trained\n",
      "[+] RandomForestClassifier with 1.0% (236) data samples achieved 79.751% Validation Score in 0.046s & 64.249% Test Score in 0.004s\n",
      "[+] Model trained\n",
      "[+] RandomForestClassifier with 10.0% (2363) data samples achieved 79.751% Validation Score in 0.170s & 76.668% Test Score in 0.015s\n",
      "[+] Model trained\n",
      "[+] RandomForestClassifier with 100% (23636) data samples achieved 79.751% Validation Score in 1.017s & 80.506% Test Score in 0.157s\n",
      "\n",
      "[+] Model trained\n",
      "[+] GradientBoostingClassifier with 1.0% (236) data samples achieved 99.937% Validation Score in 3.428s & 62.694% Test Score in 0.002s\n",
      "[+] Model trained\n",
      "[+] GradientBoostingClassifier with 10.0% (2363) data samples achieved 99.937% Validation Score in 108.165s & 87.946% Test Score in 0.031s\n",
      "[+] Model trained\n",
      "[+] GradientBoostingClassifier with 100% (23636) data samples achieved 99.937% Validation Score in 964.016s & 100.000% Test Score in 0.489s\n",
      "\n",
      "[+] Model trained\n",
      "[+] KNeighborsClassifier with 1.0% (236) data samples achieved 99.788% Validation Score in 0.002s & 69.948% Test Score in 0.018s\n",
      "[+] Model trained\n",
      "[+] KNeighborsClassifier with 10.0% (2363) data samples achieved 99.788% Validation Score in 0.003s & 88.257% Test Score in 0.184s\n",
      "[+] Model trained\n",
      "[+] KNeighborsClassifier with 100% (23636) data samples achieved 99.788% Validation Score in 0.009s & 100.000% Test Score in 4.534s\n",
      "\n",
      "[+] Model trained\n",
      "[+] MLPClassifier with 1.0% (236) data samples achieved 99.873% Validation Score in 9.225s & 70.466% Test Score in 0.004s\n",
      "[+] Model trained\n",
      "[+] MLPClassifier with 10.0% (2363) data samples achieved 99.873% Validation Score in 8.593s & 79.048% Test Score in 0.008s\n",
      "[+] Model trained\n",
      "[+] MLPClassifier with 100% (23636) data samples achieved 99.873% Validation Score in 172.882s & 100.000% Test Score in 0.297s\n",
      "\n",
      "[+] Model trained\n",
      "[+] BaggingClassifier with 1.0% (236) data samples achieved 99.873% Validation Score in 0.249s & 67.876% Test Score in 0.004s\n",
      "[+] Model trained\n",
      "[+] BaggingClassifier with 10.0% (2363) data samples achieved 99.873% Validation Score in 3.781s & 88.101% Test Score in 0.044s\n",
      "[+] Model trained\n",
      "[+] BaggingClassifier with 100% (23636) data samples achieved 99.873% Validation Score in 35.588s & 100.000% Test Score in 0.765s\n",
      "\n",
      "[+] Model trained\n",
      "[+] AdaBoostClassifier with 1.0% (236) data samples achieved 57.823% Validation Score in 3.289s & 41.451% Test Score in 0.071s\n",
      "[+] Model trained\n",
      "[+] AdaBoostClassifier with 10.0% (2363) data samples achieved 57.823% Validation Score in 34.103s & 55.768% Test Score in 0.723s\n",
      "[+] Model trained\n",
      "[+] AdaBoostClassifier with 100% (23636) data samples achieved 57.823% Validation Score in 215.943s & 57.511% Test Score in 8.705s\n",
      "\n",
      "[+] Model trained\n",
      "[+] DecisionTreeClassifier with 1.0% (236) data samples achieved 83.842% Validation Score in 0.033s & 49.223% Test Score in 0.001s\n",
      "[+] Model trained\n",
      "[+] DecisionTreeClassifier with 10.0% (2363) data samples achieved 83.842% Validation Score in 0.533s & 75.272% Test Score in 0.000s\n",
      "[+] Model trained\n",
      "[+] DecisionTreeClassifier with 100% (23636) data samples achieved 83.842% Validation Score in 2.012s & 84.436% Test Score in 0.023s\n",
      "\n"
     ]
    },
    {
     "data": {
      "image/png": "[encoded data removed]",
      "text/plain": [
       "<Figure size 792x504 with 8 Axes>"
      ]
     },
     "metadata": {
      "needs_background": "light"
     },
     "output_type": "display_data"
    }
   ],
   "source": [
    "from emotion_recognition import plot_histograms\n",
    "# plot histograms on different classifiers\n",
    "plot_histograms(classifiers=True)"
   ]
  },
  {
   "cell_type": "code",
   "execution_count": 22,
   "metadata": {},
   "outputs": [
    {
     "name": "stdout",
     "output_type": "stream",
     "text": [
      "[(SVC(C=10, gamma=0.001), {'C': 10, 'gamma': 0.001, 'kernel': 'rbf'}, 0.9989423361678723), (RandomForestClassifier(max_depth=7, max_features=2, min_samples_leaf=2,\n",
      "                       n_estimators=70), {'max_depth': 7, 'max_features': 2, 'min_samples_leaf': 2, 'min_samples_split': 2, 'n_estimators': 70}, 0.7975124423315441), (GradientBoostingClassifier(learning_rate=0.3, max_depth=7, subsample=1), {'learning_rate': 0.3, 'max_depth': 7, 'max_features': None, 'min_samples_leaf': 1, 'min_samples_split': 2, 'n_estimators': 100, 'subsample': 1}, 0.9993653211474993), (KNeighborsClassifier(n_neighbors=9, p=1, weights='distance'), {'n_neighbors': 9, 'p': 1, 'weights': 'distance'}, 0.9978846186335955), (MLPClassifier(alpha=0.01, batch_size=128, hidden_layer_sizes=(256, 256),\n",
      "              learning_rate='adaptive', max_iter=700), {'alpha': 0.01, 'batch_size': 128, 'hidden_layer_sizes': (256, 256), 'learning_rate': 'adaptive', 'max_iter': 700}, 0.9987307765503722), (BaggingClassifier(max_features=0.5, max_samples=0.8, n_estimators=50), {'max_features': 0.5, 'max_samples': 0.8, 'n_estimators': 50}, 0.9987307765503722), (AdaBoostClassifier(algorithm='SAMME', learning_rate=0.1, n_estimators=1000), {'algorithm': 'SAMME', 'learning_rate': 0.1, 'n_estimators': 1000}, 0.5782283398851567), (DecisionTreeClassifier(criterion='entropy', max_depth=10, min_samples_split=3), {'criterion': 'entropy', 'max_depth': 10, 'min_samples_leaf': 1, 'min_samples_split': 3}, 0.8384240446948813)]\n"
     ]
    }
   ],
   "source": [
    "import pickle\n",
    "with open('grid/best_classifiers.pickle', 'rb') as c:\n",
    "    x = pickle.load(c)\n",
    "    print(x)"
   ]
  }
 ],
 "metadata": {
  "kernelspec": {
   "display_name": "Python 3.10.6 64-bit",
   "language": "python",
   "name": "python3"
  },
  "language_info": {
   "codemirror_mode": {
    "name": "ipython",
    "version": 3
   },
   "file_extension": ".py",
   "mimetype": "text/x-python",
   "name": "python",
   "nbconvert_exporter": "python",
   "pygments_lexer": "ipython3",
   "version": "3.10.6"
  },
  "orig_nbformat": 4,
  "vscode": {
   "interpreter": {
    "hash": "26de051ba29f2982a8de78e945f0abaf191376122a1563185a90213a26c5da77"
   }
  }
 },
 "nbformat": 4,
 "nbformat_minor": 2
}

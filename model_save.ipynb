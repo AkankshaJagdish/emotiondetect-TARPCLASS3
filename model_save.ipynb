{
 "cells": [
  {
   "cell_type": "code",
   "execution_count": 1,
   "metadata": {},
   "outputs": [],
   "source": [
    "from emotion_recognition import EmotionRecognizer\n",
    "\n",
    "from sklearn.ensemble import AdaBoostClassifier, RandomForestClassifier, GradientBoostingClassifier, BaggingClassifier\n",
    "from sklearn.svm import SVC\n",
    "from sklearn.tree import DecisionTreeClassifier\n",
    "from sklearn.neighbors import KNeighborsClassifier\n",
    "from sklearn.neural_network import MLPClassifier\n",
    "\n",
    "import pickle"
   ]
  },
  {
   "cell_type": "code",
   "execution_count": 2,
   "metadata": {},
   "outputs": [],
   "source": [
    "from utils import get_best_estimators"
   ]
  },
  {
   "cell_type": "code",
   "execution_count": 3,
   "metadata": {},
   "outputs": [
    {
     "name": "stdout",
     "output_type": "stream",
     "text": [
      "{'SVC': SVC(C=10, gamma=0.001), 'RandomForestClassifier': RandomForestClassifier(max_depth=7, max_features=2, min_samples_leaf=2,\n",
      "                       n_estimators=70), 'GradientBoostingClassifier': GradientBoostingClassifier(learning_rate=0.3, max_depth=7, subsample=1), 'KNeighborsClassifier': KNeighborsClassifier(n_neighbors=9, p=1, weights='distance'), 'MLPClassifier': MLPClassifier(alpha=0.01, batch_size=128, hidden_layer_sizes=(256, 256),\n",
      "              learning_rate='adaptive', max_iter=700), 'BaggingClassifier': BaggingClassifier(max_features=0.5, max_samples=0.8, n_estimators=50), 'AdaBoostClassifier': AdaBoostClassifier(algorithm='SAMME', learning_rate=0.1, n_estimators=1000), 'DecisionTreeClassifier': DecisionTreeClassifier(criterion='entropy', max_depth=10, min_samples_split=3)}\n"
     ]
    }
   ],
   "source": [
    "def get_estimators_name(estimators):\n",
    "    result = [ '\"{}\"'.format(estimator.__class__.__name__) for estimator, _, _ in estimators ]\n",
    "    return ','.join(result), {estimator_name.strip('\"'): estimator for estimator_name, (estimator, _, _) in zip(result, estimators)}\n",
    "\n",
    "\n",
    "\n",
    "estimators = get_best_estimators(True)\n",
    "estimators_str, estimator_dict = get_estimators_name(estimators)\n",
    "print(estimator_dict)"
   ]
  },
  {
   "cell_type": "code",
   "execution_count": 4,
   "metadata": {},
   "outputs": [],
   "source": [
    "features = [\"mfcc\", \"chroma\", \"mel\"]"
   ]
  },
  {
   "cell_type": "markdown",
   "metadata": {},
   "source": [
    "8 models available are:  \"SVC\",\"AdaBoostClassifier\",\n",
    "                                        \"RandomForestClassifier\",\"GradientBoostingClassifier\",\n",
    "                                        \"DecisionTreeClassifier\",\"KNeighborsClassifier\",\n",
    "                                        \"MLPClassifier\",\"BaggingClassifier\", default\n",
    "                                        is \"BaggingClassifier\""
   ]
  },
  {
   "cell_type": "code",
   "execution_count": 5,
   "metadata": {},
   "outputs": [
    {
     "name": "stdout",
     "output_type": "stream",
     "text": [
      "[+] Model trained\n",
      "[+] SVCmodel saved\n",
      "[+] SVCmodel Train Score: 1.0\n",
      "[+] SVCmodel Test Score: 1.0\n"
     ]
    }
   ],
   "source": [
    "SVCmodel = EmotionRecognizer(estimator_dict['SVC'], features=features, verbose=0, balance=False)\n",
    "SVCmodel.train()\n",
    "pickle.dump(SVCmodel, open('mlmodels/SVCmodel.pkl', 'wb' ))\n",
    "print(\"[+] SVCmodel saved\")\n",
    "print(\"[+] SVCmodel Train Score:\", SVCmodel.train_score())\n",
    "print(\"[+] SVCmodel Test Score:\", SVCmodel.test_score())\n",
    "SVCmodel_load = pickle.load(open('mlmodels/SVCmodel.pkl','rb'))"
   ]
  },
  {
   "cell_type": "code",
   "execution_count": 6,
   "metadata": {},
   "outputs": [
    {
     "name": "stdout",
     "output_type": "stream",
     "text": [
      "[+] Model trained\n",
      "[+] AdaBoostmodel saved\n",
      "[+] AdaBoostmodel Train Score: 0.5727703503130818\n",
      "[+] AdaBoostmodel Test Score: 0.575107296137339\n"
     ]
    }
   ],
   "source": [
    "AdaBoostmodel = EmotionRecognizer(estimator_dict['AdaBoostClassifier'], features=features, verbose=0, balance=False)\n",
    "AdaBoostmodel.train()\n",
    "pickle.dump(AdaBoostmodel, open('mlmodels/AdaBoostmodel.pkl', 'wb' ))\n",
    "print(\"[+] AdaBoostmodel saved\")\n",
    "print(\"[+] AdaBoostmodel Train Score:\", AdaBoostmodel.train_score())\n",
    "print(\"[+] AdaBoostmodel Test Score:\", AdaBoostmodel.test_score())\n",
    "AdaBoostmodel_load = pickle.load(open('mlmodels/AdaBoostmodel.pkl','rb'))"
   ]
  },
  {
   "cell_type": "code",
   "execution_count": 7,
   "metadata": {},
   "outputs": [
    {
     "name": "stdout",
     "output_type": "stream",
     "text": [
      "[+] Model trained\n",
      "[+] RandomForestmodel saved\n",
      "[+] RandomForestmodel Train Score: 0.8089778304281604\n",
      "[+] RandomForestmodel Test Score: 0.8132271575572677\n"
     ]
    }
   ],
   "source": [
    "RandomForestmodel = EmotionRecognizer(estimator_dict['RandomForestClassifier'], features=features, verbose=0, balance=False)\n",
    "RandomForestmodel.train()\n",
    "pickle.dump(RandomForestmodel, open('mlmodels/RandomForestmodel.pkl', 'wb' ))\n",
    "print(\"[+] RandomForestmodel saved\")\n",
    "print(\"[+] RandomForestmodel Train Score:\", RandomForestmodel.train_score())\n",
    "print(\"[+] RandomForestmodel Test Score:\", RandomForestmodel.test_score())\n",
    "RandomForestmodel_load = pickle.load(open('mlmodels/RandomForestmodel.pkl','rb'))"
   ]
  },
  {
   "cell_type": "code",
   "execution_count": 8,
   "metadata": {},
   "outputs": [
    {
     "name": "stdout",
     "output_type": "stream",
     "text": [
      "[+] Model trained\n",
      "[+] GradientBoostingmodel saved\n",
      "[+] GradientBoostingmodel Train Score: 1.0\n",
      "[+] GradientBoostingmodel Test Score: 1.0\n"
     ]
    }
   ],
   "source": [
    "GradientBoostingmodel = EmotionRecognizer(estimator_dict['GradientBoostingClassifier'], features=features, verbose=0, balance=False)\n",
    "GradientBoostingmodel.train()\n",
    "pickle.dump(GradientBoostingmodel, open('mlmodels/GradientBoostingmodel.pkl', 'wb' ))\n",
    "print(\"[+] GradientBoostingmodel saved\")\n",
    "print(\"[+] GradientBoostingmodel Train Score:\", GradientBoostingmodel.train_score())\n",
    "print(\"[+] GradientBoostingmodel Test Score:\", GradientBoostingmodel.test_score())\n",
    "GradientBoostingmodel_load = pickle.load(open('mlmodels/GradientBoostingmodel.pkl','rb'))"
   ]
  },
  {
   "cell_type": "code",
   "execution_count": 9,
   "metadata": {},
   "outputs": [
    {
     "name": "stdout",
     "output_type": "stream",
     "text": [
      "[+] Model trained\n",
      "[+] DecisionTreemodel saved\n",
      "[+] DecisionTreemodel Train Score: 0.8417667964122525\n",
      "[+] DecisionTreemodel Test Score: 0.8443559646310564\n"
     ]
    }
   ],
   "source": [
    "DecisionTreemodel = EmotionRecognizer(estimator_dict['DecisionTreeClassifier'], features=features, verbose=0, balance=False)\n",
    "DecisionTreemodel.train()\n",
    "pickle.dump(DecisionTreemodel, open('mlmodels/DecisionTreemodel.pkl', 'wb' ))\n",
    "print(\"[+] DecisionTreemodel saved\")\n",
    "print(\"[+] DecisionTreemodel Train Score:\", DecisionTreemodel.train_score())\n",
    "print(\"[+] DecisionTreemodel Test Score:\",  DecisionTreemodel.test_score())\n",
    "DecisionTreemodel_load = pickle.load(open('mlmodels/DecisionTreemodel.pkl','rb'))"
   ]
  },
  {
   "cell_type": "code",
   "execution_count": 10,
   "metadata": {},
   "outputs": [
    {
     "name": "stdout",
     "output_type": "stream",
     "text": [
      "[+] Model trained\n",
      "[+] KNeighboursmodel saved\n",
      "[+] KNeighborsmodel Train Score: 1.0\n",
      "[+] KNeighborsmodel Test Score: 1.0\n"
     ]
    }
   ],
   "source": [
    "KNeighborsmodel = EmotionRecognizer(estimator_dict['KNeighborsClassifier'], features=features, verbose=0, balance=False)\n",
    "KNeighborsmodel.train()\n",
    "pickle.dump(KNeighborsmodel, open('mlmodels/KNeighborsmodel.pkl', 'wb' ))\n",
    "print(\"[+] KNeighboursmodel saved\")\n",
    "print(\"[+] KNeighborsmodel Train Score:\", KNeighborsmodel.train_score())\n",
    "print(\"[+] KNeighborsmodel Test Score:\", KNeighborsmodel.test_score())\n",
    "KNeighborsmodel_load = pickle.load(open('mlmodels/KNeighborsmodel.pkl','rb'))"
   ]
  },
  {
   "cell_type": "code",
   "execution_count": 11,
   "metadata": {},
   "outputs": [
    {
     "name": "stdout",
     "output_type": "stream",
     "text": [
      "[+] Model trained\n",
      "[+] MLPmodel saved\n",
      "[+] MLPmodel Train Score: 0.9951345405313928\n",
      "[+] MLPmodel Test Score: 0.9952427736697864\n"
     ]
    }
   ],
   "source": [
    "MLPmodel = EmotionRecognizer(estimator_dict['MLPClassifier'], features=features, verbose=0, balance=False)\n",
    "MLPmodel.train()\n",
    "pickle.dump(MLPmodel, open('mlmodels/MLPmodel.pkl', 'wb' ))\n",
    "print(\"[+] MLPmodel saved\")\n",
    "print(\"[+] MLPmodel Train Score:\", MLPmodel.train_score())\n",
    "print(\"[+] MLPmodel Test Score:\", MLPmodel.test_score())\n",
    "MLPmodel_load = pickle.load(open('mlmodels/MLPmodel.pkl','rb'))"
   ]
  },
  {
   "cell_type": "code",
   "execution_count": 12,
   "metadata": {},
   "outputs": [
    {
     "name": "stdout",
     "output_type": "stream",
     "text": [
      "[+] Model trained\n",
      "[+] Baggingmodel saved\n",
      "[+] BaggingmodelTrain Score: 1.0\n",
      "[+] Baggingmodel Test Score: 1.0\n"
     ]
    }
   ],
   "source": [
    "Baggingmodel = EmotionRecognizer(estimator_dict['BaggingClassifier'], features=features, verbose=0, balance=False)\n",
    "Baggingmodel.train()\n",
    "pickle.dump(Baggingmodel, open('mlmodels/Baggingmodel.pkl', 'wb' ))\n",
    "print(\"[+] Baggingmodel saved\")\n",
    "print(\"[+] BaggingmodelTrain Score:\", Baggingmodel.train_score())\n",
    "print(\"[+] Baggingmodel Test Score:\", Baggingmodel.test_score())\n",
    "Baggingmodel_load = pickle.load(open('mlmodels/Baggingmodel.pkl','rb'))"
   ]
  }
 ],
 "metadata": {
  "kernelspec": {
   "display_name": "Python 3.10.6 64-bit",
   "language": "python",
   "name": "python3"
  },
  "language_info": {
   "codemirror_mode": {
    "name": "ipython",
    "version": 3
   },
   "file_extension": ".py",
   "mimetype": "text/x-python",
   "name": "python",
   "nbconvert_exporter": "python",
   "pygments_lexer": "ipython3",
   "version": "3.10.6"
  },
  "orig_nbformat": 4,
  "vscode": {
   "interpreter": {
    "hash": "26de051ba29f2982a8de78e945f0abaf191376122a1563185a90213a26c5da77"
   }
  }
 },
 "nbformat": 4,
 "nbformat_minor": 2
}
